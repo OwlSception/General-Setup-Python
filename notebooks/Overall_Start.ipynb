{
 "cells": [
  {
   "cell_type": "markdown",
   "metadata": {},
   "source": [
    "# Overall Project\n",
    "\n"
   ]
  },
  {
   "cell_type": "code",
   "execution_count": null,
   "metadata": {},
   "outputs": [],
   "source": [
    "# Standard Library\n",
    "\n",
    "# Third Party Library\n",
    "from Bio import Entrez\n",
    "from fastapi import FastAPI\n",
    "from fastapi.responses import JSONResponse\n",
    "from fastapi.testclient import TestClient\n",
    "\n",
    "import matplotlib.pyplot as plt\n",
    "import pandas as pd\n",
    "from sklearn.linear_model import LogisticRegression\n",
    "from sklearn.metrics import accuracy_score\n",
    "from sklearn.model_selection import train_test_split\n",
    "\n",
    "# Local Library\n"
   ]
  },
  {
   "cell_type": "code",
   "execution_count": null,
   "metadata": {},
   "outputs": [],
   "source": [
    "# Set up NCBI Entrez\n",
    "Entrez.email = \"your_email@example.com\"  # Replace with your email\n"
   ]
  },
  {
   "cell_type": "code",
   "execution_count": null,
   "metadata": {},
   "outputs": [],
   "source": [
    "# Define a function to acquire data from NCBI (using E-utilities)\n",
    "def fetch_ncbi_data(search_term, db=\"pubmed\"):\n",
    "    import datetime\n",
    "    handle = Entrez.esearch(db=db, term=search_term)\n",
    "    record = Entrez.read(handle)\n",
    "    ids = record[\"IdList\"]\n",
    "    summary_handle = Entrez.efetch(\n",
    "        db=db, \n",
    "        id=ids, \n",
    "        retmode=\"xml\",\n",
    "        rettype=\"abstract\", # \n",
    "        retmax=3, # limit to x results\n",
    "        ) \n",
    "    summary_record = Entrez.read(summary_handle)\n",
    "     # Convert to a list of dictionaries for easier processing\n",
    "    data = []\n",
    "    for article in summary_record[\"PubmedArticle\"]:\n",
    "        article_data = {\n",
    "            \"title\": article[\"MedlineCitation\"][\"Article\"][\"ArticleTitle\"],\n",
    "            \"abstract\": article[\"MedlineCitation\"][\"Article\"][\"Abstract\"][\"AbstractText\"],\n",
    "            \"authors\": [author[\"LastName\"] for author in article[\"MedlineCitation\"][\"Article\"][\"AuthorList\"]],\n",
    "            \"journal\": article[\"MedlineCitation\"][\"Article\"][\"Journal\"][\"Title\"],\n",
    "            \"publication_date\": article[\"MedlineCitation\"][\"Article\"][\"Journal\"][\"PubDate\"][\"Year\"],\n",
    "            \"accessed\": datetime.datetime.now(),\n",
    "            \"version\": article[\"MedlineCitation\"][\"Article\"][\"Version\"],\n",
    "            \"url\": article[\"MedlineCitation\"][\"Article\"][\"URL\"]\n",
    "            # Add other desired fields...\n",
    "        }\n",
    "        data.append(article_data)\n",
    "        print(data)\n",
    "    return summary_record\n"
   ]
  },
  {
   "cell_type": "code",
   "execution_count": null,
   "metadata": {},
   "outputs": [],
   "source": [
    "# Fetch data from NCBI\n",
    "search_term = \"genomics AND cancer AND canine\"\n",
    "ncbi_data = fetch_ncbi_data(search_term)\n",
    "data =pd.DataFrame(ncbi_data)\n"
   ]
  },
  {
   "cell_type": "code",
   "execution_count": null,
   "metadata": {},
   "outputs": [],
   "source": [
    "def fetch_ncbi_geo_data(search_term, platform=None, organism=None):\n",
    "    import datetime\n",
    "    handle = Entrez.esearch(db=\"gds\", term=search_term)\n",
    "    record = Entrez.read(handle)\n",
    "    ids = record[\"IdList\"]\n",
    "    data = []\n",
    "    for gse_id in ids:\n",
    "        try:\n",
    "            summary_handle = Entrez.efetch(db=\"gds\", id=gse_id, rettype=\"full\", retmode=\"xml\")\n",
    "            summary_record = Entrez.read(summary_handle)\n",
    "            series_matrix_url = summary_record[0][\"Series\"][\"Data_Processed_Set\"][\"Data_Processed_Set_List\"][0][\"Data_Processed_Set_Series\"][\"Data_Processed_Set_Series_List\"][0][\"Data_Processed_Set_Series_Platform\"][\"URL\"]\n",
    "            dataset_info = {\n",
    "                \"gene_symbol\": summary_record[0][\"Series\"][\"Gene Symbol\"],\n",
    "                \"also_known_as\": summary_record[0][\"Series\"][\"Also known as\"],\n",
    "                \"gse_id\": gse_id,\n",
    "                \"platform\": summary_record[0][\"Series\"][\"Platform_Ref\"][\"ID\"],\n",
    "                \"organism\": summary_record[0][\"Series\"][\"Organism\"][\"Organism_Name\"],\n",
    "                \"title\": summary_record[0][\"Series\"][\"Title\"],\n",
    "                \"summary\": summary_record[0][\"Series\"][\"Summary\"],\n",
    "                \"series_matrix_url\": series_matrix_url,\n",
    "                \"accessed\": datetime.datetime.now(),\n",
    "                \"updated\" : summary_record[0][\"Series\"][\"Updated On\"],\n",
    "                \"version\": summary_record[0][\"Series\"][\"Version\"],\n",
    "                \"url\": summary_record[0][\"Series\"][\"URL\"],\n",
    "                \"source\": \"NCBI GEO\",\n",
    "                \"accession\": summary_record[0][\"Series\"][\"Series_ID\"],\n",
    "                \"version\": summary_record[0][\"Series\"][\"Series_Version\"],\n",
    "                \"pubmed_ids\": summary_record[0][\"Pubmed_IDs\"].split(\";\"),\n",
    "                \"sample_count\": len(summary_record[0][\"Series\"][\"Samples\"]),\n",
    "                \"refseq_status\": summary_record[0][\"Series\"],\n",
    "                \"orthologs\": summary_record[0][\"Series\"][\"Orthologs\"],\n",
    "                \"expression\": summary_record[0][\"Series\"][\"Expression\"],\n",
    "                \"gene_type\": summary_record[0][\"Series\"][\"Gene Type\"],\n",
    "                \"location\": summary_record[0][\"Series\"][\"Location\"],\n",
    "                \"exon_count\": summary_record[0][\"Series\"][\"Exon Count\"],\n",
    "                \"transcript_count\": summary_record[0][\"Series\"][\"Transcript Count\"],\n",
    "                \"expressions\": summary_record[0][\"Series\"][\"Expressions\"],\n",
    "            }\n",
    "            data.append(dataset_info)\n",
    "        except Exception as e:\n",
    "            print(f\"Error fetching GSE {gse_id}: {e}\")\n",
    "    return data\n",
    "\n",
    "def download_series_matrix(series_matrix_url, filename=\"series_matrix.txt\"):\n",
    "    import requests\n",
    "    response = requests.get(series_matrix_url)\n",
    "    response.raise_for_status()\n",
    "    print(f\"Downloading Series Matrix from {series_matrix_url}\")\n",
    "    with open(filename, \"wb\") as file:\n",
    "        file.write(response.content)\n",
    "    print(f\"Series Matrix file downloaded to {filename}\")\n",
    "\n",
    "# Example usage:\n",
    "\n",
    "geo_datasets = fetch_ncbi_geo_data(search_term, organism=\"Homo sapiens\")\n"
   ]
  },
  {
   "cell_type": "code",
   "execution_count": null,
   "metadata": {},
   "outputs": [],
   "source": [
    "geo_datasets \n"
   ]
  },
  {
   "cell_type": "markdown",
   "metadata": {},
   "source": []
  },
  {
   "cell_type": "code",
   "execution_count": null,
   "metadata": {},
   "outputs": [],
   "source": [
    "# --- Differential Gene Expression Analysis (Simplified Example) ---\n",
    "\n",
    "def analyze_geo_data(series_matrix_file):\n",
    "    # ... (load Series Matrix file using pandas or your preferred method)\n",
    "    # ... (perform differential gene expression analysis using DESeq2 or edgeR)\n",
    "    # Example: \n",
    "    # Assuming you have the data loaded as a pandas DataFrame called 'data'\n",
    "    # ... (perform your analysis logic)\n",
    "    from deseq2 import DESeqDataSetFromMatrix, DeSeq\n",
    "\n",
    "    data = pd.read_csv(\"series_matrix.txt\", sep=\"\\t\", index_col=0)\n",
    "    design_matrix = pd.get_dummies(data[\"your_categorical_column\"])\n",
    "\n",
    "    dds = DESeqDataSetFromMatrix(\n",
    "        countData=data.iloc[:, 1:],\n",
    "        colData=design_matrix,\n",
    "        design=~0 + design_matrix.columns)\n",
    "\n",
    "    dds = dds.DESeq(dds)\n",
    "\n",
    "    results = dds.results(contrast=[design_matrix.columns[1], design_matrix.columns[0]])\n",
    "\n",
    "    print(results.info())\n",
    "    print(results.head())\n",
    "    print(results.summary())\n",
    "    print(results.describe())\n",
    "\n",
    "    # differentially_expressed_genes = [\n",
    "    #     {\"gene_id\": \"ENSG00000123456\", \"log2FoldChange\": 1.5, \"pvalue\": 0.01},\n",
    "    #     {\"gene_id\": \"ENSG00000234567\", \"log2FoldChange\": -2.0, \"pvalue\": 0.005}\n",
    "    # ]\n",
    "    # return {\"differentially_expressed_genes\": differentially_expressed_genes}\n",
    "    return results\n"
   ]
  },
  {
   "cell_type": "code",
   "execution_count": null,
   "metadata": {},
   "outputs": [],
   "source": [
    "\n",
    "# --- FastAPI ---\n",
    "\n",
    "app = FastAPI()\n",
    "\n",
    "@app.get(\"/geo_data\")\n",
    "async def get_geo_data(search_term: str, platform: str = None, organism: str = None):\n",
    "    geo_datasets = fetch_ncbi_geo_data(search_term, platform, organism)\n",
    "    results = []\n",
    "    for dataset in geo_datasets:\n",
    "        try:\n",
    "            series_matrix_url = dataset[\"series_matrix_url\"]\n",
    "            series_matrix_file = download_series_matrix(series_matrix_url)\n",
    "            analysis_results = await analyze_geo_data(series_matrix_file)\n",
    "            results.append({\n",
    "                \"gse_id\": dataset[\"gse_id\"],\n",
    "                \"analysis_results\": analysis_results\n",
    "            })\n",
    "        except Exception as e:\n",
    "            print(f\"Error processing GSE {dataset['gse_id']}: {e}\")\n",
    "            results.append({\"gse_id\": dataset['gse_id'], \"error\": str(e)})\n",
    "\n",
    "    return JSONResponse(results)\n"
   ]
  },
  {
   "cell_type": "code",
   "execution_count": null,
   "metadata": {},
   "outputs": [],
   "source": []
  },
  {
   "cell_type": "code",
   "execution_count": null,
   "metadata": {},
   "outputs": [],
   "source": [
    "\n",
    "# --- Test the API ---\n",
    "\n",
    "client = TestClient(app)\n",
    "response = client.get(\"/geo_data?search_term=genomics%20AND%20cancer%20AND%20human\")\n",
    "print(response.json())\n"
   ]
  },
  {
   "cell_type": "code",
   "execution_count": null,
   "metadata": {},
   "outputs": [],
   "source": [
    "\n",
    "# Split data into training and testing sets\n",
    "X_train, X_test, y_train, y_test = train_test_split(data.drop(\"your_target_column\", axis=1),\n",
    "                                                    data[\"your_target_column\"],\n",
    "                                                    test_size=0.2)\n",
    "\n"
   ]
  },
  {
   "cell_type": "markdown",
   "metadata": {},
   "source": []
  },
  {
   "cell_type": "code",
   "execution_count": null,
   "metadata": {},
   "outputs": [],
   "source": [
    "# Train a machine learning model (example: logistic regression)\n",
    "model = LogisticRegression()\n",
    "model.fit(X_train, y_train)\n"
   ]
  },
  {
   "cell_type": "markdown",
   "metadata": {},
   "source": []
  },
  {
   "cell_type": "code",
   "execution_count": null,
   "metadata": {},
   "outputs": [],
   "source": [
    "# Evaluate the model\n",
    "y_pred = model.predict(X_test)\n",
    "accuracy = accuracy_score(y_test, y_pred)\n",
    "print(f\"Accuracy: {accuracy}\")\n"
   ]
  }
 ],
 "metadata": {
  "kernelspec": {
   "display_name": "mypythonenv",
   "language": "python",
   "name": "python3"
  },
  "language_info": {
   "name": "python",
   "version": "3.12.3"
  }
 },
 "nbformat": 4,
 "nbformat_minor": 2
}
