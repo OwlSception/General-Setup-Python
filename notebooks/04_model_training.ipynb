{
 "cells": [
  {
   "cell_type": "markdown",
   "metadata": {},
   "source": [
    "# Model Training\n"
   ]
  },
  {
   "cell_type": "code",
   "execution_count": null,
   "metadata": {},
   "outputs": [],
   "source": [
    "\n",
    "\n",
    "from template.models.overview import setup_modeling_info\n",
    "x_train, y_train, x_test, y_test, model_train, model_test, model_train_reg, model_test_reg, prediction_train, prediction_test, prediction_train_reg, prediction_test_reg = setup_modeling_info()\n",
    "\n",
    "from template.models.pca import pca\n"
   ]
  }
 ],
 "metadata": {
  "language_info": {
   "name": "python"
  }
 },
 "nbformat": 4,
 "nbformat_minor": 2
}
