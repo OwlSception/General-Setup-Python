{
 "cells": [
  {
   "cell_type": "markdown",
   "metadata": {},
   "source": [
    "# Data Exploration\n"
   ]
  },
  {
   "cell_type": "markdown",
   "metadata": {},
   "source": [
    "##### Import\n"
   ]
  },
  {
   "cell_type": "code",
   "execution_count": 6,
   "metadata": {},
   "outputs": [],
   "source": [
    "# Standard\n",
    "import pandas as pd\n",
    "import numpy as np\n"
   ]
  },
  {
   "cell_type": "code",
   "execution_count": null,
   "metadata": {},
   "outputs": [],
   "source": [
    "from config.database_config import DATABASE_URL\n"
   ]
  },
  {
   "cell_type": "code",
   "execution_count": null,
   "metadata": {},
   "outputs": [],
   "source": [
    "## Load Data\n",
    "df = pd.read_csv(\"data/data.csv\")  # Replace 'data.csv' with your actual data file\n"
   ]
  },
  {
   "cell_type": "markdown",
   "metadata": {},
   "source": [
    "## Exploration\n"
   ]
  },
  {
   "cell_type": "code",
   "execution_count": null,
   "metadata": {},
   "outputs": [],
   "source": [
    "df.head()\n"
   ]
  },
  {
   "cell_type": "code",
   "execution_count": null,
   "metadata": {},
   "outputs": [],
   "source": [
    "df.tail()\n"
   ]
  },
  {
   "cell_type": "code",
   "execution_count": null,
   "metadata": {},
   "outputs": [],
   "source": [
    "df.describe()\n"
   ]
  },
  {
   "cell_type": "markdown",
   "metadata": {},
   "source": [
    "# Descriptive and Exploratory Analysis\n",
    "\n",
    "Exploration of the central tendency and spread to summarize patterns in a dataset.\n"
   ]
  },
  {
   "cell_type": "code",
   "execution_count": null,
   "metadata": {},
   "outputs": [],
   "source": []
  },
  {
   "cell_type": "markdown",
   "metadata": {},
   "source": [
    "## Missing Data\n"
   ]
  },
  {
   "cell_type": "code",
   "execution_count": null,
   "metadata": {},
   "outputs": [],
   "source": [
    "from utils.database_utils import generate_missing_data_report\n",
    "\n",
    "missing_data_report = generate_missing_data_report(session, model)\n"
   ]
  },
  {
   "cell_type": "markdown",
   "metadata": {},
   "source": [
    "## Central Tendency: Mean, Median, Mode\n"
   ]
  },
  {
   "cell_type": "markdown",
   "metadata": {},
   "source": [
    "## Spread: Range, Interquartile Range, Standard Deviation, Variance\n"
   ]
  },
  {
   "cell_type": "markdown",
   "metadata": {},
   "source": [
    "## Outliers\n"
   ]
  },
  {
   "cell_type": "code",
   "execution_count": null,
   "metadata": {},
   "outputs": [],
   "source": []
  },
  {
   "cell_type": "markdown",
   "metadata": {},
   "source": [
    "# Exploratory Analysis\n"
   ]
  },
  {
   "cell_type": "markdown",
   "metadata": {},
   "source": [
    "# Inferential Analysis\n",
    "\n",
    "Hypothesis Testing\n"
   ]
  },
  {
   "cell_type": "markdown",
   "metadata": {},
   "source": [
    "# Causal Analysis\n",
    "\n",
    "## Difference in Difference\n",
    "\n",
    "## Random vs Not Random\n",
    "\n",
    "Random is preferred, but not often possible.\n",
    "\n",
    "This analysis is on information that was (not) random.\n",
    "\n",
    "Notation:\n",
    "\n",
    "- Z: Represents the treatment or exposure condition.\n",
    "\n",
    "  - Binary:\n",
    "    Z = 1 == treatment\n",
    "    Z = 0 == control\n",
    "  - Continuous:\n",
    "    Z = treatment value such as dosage\n",
    "\n",
    "- Y: Represents the outcome/dependent variable.\n",
    "  Y^1 (y_1) potential outcome under the treatment condition (Z = 1)\n",
    "  Y^0 (y_0) potential outcome under the control condition (Z = 0)\n",
    "\n",
    "- Estimands\n",
    "\n",
    "  - ITE: Individual Treatment Effect\n",
    "    - Y^1 - Y^0\n",
    "  - ATE: Average Treatment Effect\n",
    "    - np.mean(Y^1) - np.mean(Y^0)\n",
    "  - ATT: Average Treatment Effect on the Treated\n",
    "    - np.mean(y_1) - np.mean(y_0) where Z = 1\n",
    "  - ATC: Average Treatment Effect on the Controlled\n",
    "    - np.mean(y_1) - np.mean(y_0) where Z = 0\n"
   ]
  },
  {
   "cell_type": "markdown",
   "metadata": {},
   "source": [
    "## Propensity Scores\n",
    "\n",
    "Check overlap and balance + Range where the treatment and control overlap + Balance: summarizes the entire distrubution of the variable + SMD: Standardized Mean Difference (close to 0 is good, means the average value, the center of the distribution, of the variable is similar between the groups [-0.1, 0.1]) + Variance Ratio (close to 1, means the variability/spread of the variaible is the same in both groups [0.5, 2.0])\n",
    "\n",
    "Model propensity scores + Ex: Log Regression\n",
    "Use propensity scores to weight the dataset + IPTW with WeightIt package in R works really well at this\n",
    "Recheck overlap and balance\n",
    "Estimate the treatment effect\n",
    "Model propensity scores\n"
   ]
  },
  {
   "cell_type": "code",
   "execution_count": null,
   "metadata": {},
   "outputs": [],
   "source": [
    "ate = np.mean(y_1) - np.mean(y_0)\n"
   ]
  },
  {
   "cell_type": "markdown",
   "metadata": {},
   "source": [
    "## Assumptions\n",
    "\n",
    "Assumptions about the data can influence the interpretation of the results. They should be considered when performing statistical analysis.\n",
    "\n",
    "- Conditional Exchangeability\n",
    "\n",
    "- SUTVA: Stable Unit Treatment Value Assumption\n",
    "\n",
    "- Overlap\n"
   ]
  },
  {
   "cell_type": "markdown",
   "metadata": {},
   "source": [
    "# Predictive Analysis\n"
   ]
  },
  {
   "cell_type": "code",
   "execution_count": null,
   "metadata": {},
   "outputs": [],
   "source": []
  }
 ],
 "metadata": {
  "kernelspec": {
   "display_name": "data_env",
   "language": "python",
   "name": "python3"
  },
  "language_info": {
   "codemirror_mode": {
    "name": "ipython",
    "version": 3
   },
   "file_extension": ".py",
   "mimetype": "text/x-python",
   "name": "python",
   "nbconvert_exporter": "python",
   "pygments_lexer": "ipython3",
   "version": "3.11.8"
  }
 },
 "nbformat": 4,
 "nbformat_minor": 2
}
