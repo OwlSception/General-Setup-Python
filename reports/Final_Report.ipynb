{
 "cells": [
  {
   "cell_type": "markdown",
   "metadata": {},
   "source": [
    "# Name of Project\n"
   ]
  },
  {
   "cell_type": "markdown",
   "metadata": {},
   "source": [
    "# Exploratory Data Analysis Report\n"
   ]
  },
  {
   "cell_type": "markdown",
   "metadata": {},
   "source": [
    "\n",
    "## Notebook Table of Contents\n",
    "1. [Project Overview](#project-overview)\n",
    "2. [Imports](#imports)\n",
    "3. [Data Loading and Initial Inspection](#data-loading-and-initial-inspection)\n",
    "4. [Descriptive Statistics](#4-descriptive-statistics)\n",
    "5. [Missing Values Analysis](#5-missing-values-analysis)\n",
    "6. [Data Cleaning](#6-data-cleaning)\n",
    "7. [Univariate Analysis](#7-univariate-analysis)\n",
    "8. [Bivariate Analysis](#8-bivariate-analysis)\n",
    "9. [Outliers Detection](#9-outliers-detection)\n",
    "10. [Feature Engineering (Optional)](#10-feature-engineering-optional)\n",
    "11. [Conclusions and Insights](#11-conclusions-and-insights)\n",
    "\n",
    "---\n"
   ]
  },
  {
   "cell_type": "markdown",
   "metadata": {},
   "source": [
    "\n",
    "### Project Table of Contents\n",
    "\n",
    "#### Other Notebooks \n",
    "\n",
    "Example: [Notebook Name](./notebooks/exploratory/eda.ipynb)\n",
    "\n",
    "---\n",
    "#### Linking to Data Files\n",
    "\n",
    "Example: [Data File](https://s3.amazonaws.com/codecademy-datasets/insurance.csv)\n",
    "\n",
    "---\n",
    "\n",
    "#### Linking to Scripts\n",
    "\n",
    "Example: [Script Name](src/data_processing.py)\n",
    "\n",
    "---\n",
    "\n",
    "Example: [Read the README](./README.md)\n",
    "\n",
    "#### Links to images or visualizations\n",
    "\n",
    "![Correlation heatmap](../visualizations/eda/correlation_heatmap.png)\n",
    "\n",
    "#### Links from images\n",
    "[![Correlation heatmap](../visualizations/eda/correlation_heatmap.png)](../notebooks/exploratory/eda.ipynb)\n",
    "\n",
    "\n",
    "Example logo: [![GitHub Logo](https://github.githubassets.com/images/modules/logos_page/GitHub-Mark.png)](https://github.com)\n"
   ]
  },
  {
   "cell_type": "markdown",
   "metadata": {},
   "source": [
    "\n",
    "\n",
    "#### How to do:\n",
    "\n",
    "##### Links to Project Files\n",
    "\n",
    "- [Read the project README](../README.md)\n",
    "- [Download the raw dataset](../data/raw/sales_data.csv)\n",
    "- [Open the EDA notebook](../notebooks/exploratory/eda.ipynb)\n",
    "- [View the data loader script](../src/data/data_loader.py)\n",
    "\n",
    "##### Project Dashboard\n",
    "\n",
    "- [![EDA](../visualizations/eda_icon.png)](../notebooks/exploratory/eda.ipynb)\n",
    "  *Click the image above to open the Exploratory Data Analysis notebook.*\n",
    "\n",
    "- [![Model Training](../visualizations/model_icon.png)](../notebooks/modeling/train_model.ipynb)\n",
    "  *Click the image above to open the Model Training notebook.*\n",
    "\n",
    "##### Example of Clickable Resized Image\n",
    "\n",
    "<a href=\"../notebooks/exploratory/eda.ipynb\">\n",
    "    <img src=\"../visualizations/eda/correlation_heatmap.png\" alt=\"Correlation Heatmap\" style=\"width:300px;height:auto;\"/>\n",
    "</a>\n",
    "\n",
    "*Click the image above to open the Exploratory Data Analysis notebook.*\n"
   ]
  },
  {
   "cell_type": "markdown",
   "metadata": {},
   "source": [
    "\n",
    "## Introduction:\n",
    "\n",
    "Within this project, there will be an analysis of the file 'insurance.csv' from the codecademy website. \n",
    "\n",
    "**Data Sources:**\n",
    "\n",
    "Cite: \n",
    "Any notes about the data:\n",
    "\n",
    "\n",
    "### Table of Contents\n",
    " \n",
    "* [Goals](#goals) <a id=\"linkhandle\"></a>\n",
    "    * [Project Formats](#formats)</a>\n",
    "    * [Data Structure](#section1_1) <a id=\"linkhandle\"></a>\n",
    "    * [Data Types](#section1_2) <a id=\"linkhandle\"></a>\n",
    "    * [Missing Values](#section1_3) <a id=\"linkhandle\"></a>\n",
    "    * [Outliers](#section1_4) <a id=\"linkhandle\"></a>\n",
    "    * [Categorical Variables](#section1_5) <a id=\"linkhandle\"></a>\n",
    "    * [Numerical Variables](#section1_6) <a id=\"linkhandle\"></a>\n",
    "    * [Summary Statistics](#section1_7) <a id=\"linkhandle\"></a>\n",
    "    * [Correlation Matrix](#section1_8) <a id=\"linkhandle\"></a>\n",
    "    * [Histograms and Boxplots](#section1_9) <a id=\"linkhandle\"></a>\n",
    "    * [Scatterplots and Correlation Matrix Heatmap](#section1_10) <a id=\"linkhandle\"></a>\n",
    "\n",
    "\n",
    "* [Data](#Data) <a id=\"linkhandle\"></a>\n",
    "    * [Loading the Data](#section1_1) <a id=\"linkhandle\"></a>\n",
    "    * [Data Information](#section1_2) <a id=\"linkhandle\"></a>\n",
    "* [Data Cleaning](#cleaning)\n",
    "    * [Adding an Age Column](#section2_1)\n",
    "    * [Checking the Education Variable](#section2_2)\n",
    "* [Exploratory Data Analysis](#EDA)\n",
    "    * [Big Picture](#section3_1)\n",
    "    * [Purchasing Behavior by Income](#section3_2)\n",
    "    * [More Purchasing Behavior by Income](#section3_3)\n",
    "    * [Purchasing Behavior by Education and Income](#section3_4)\n",
    "    * [Purchasing Behavior by Age](#section3_5)\n",
    "* [Conclusion](#conclusion)\n",
    "   \n",
    "\n"
   ]
  },
  {
   "cell_type": "markdown",
   "metadata": {},
   "source": [
    "\n",
    "## Scoping:\n",
    "The analysis will include the creation of a class housing functions to obtain and organize the file neatly to be readable for python data analysis as well as some python data analysis. \n",
    "\n",
    "From this analysis of patient info, there will be conclusions on the __columns__ as well as relations between.\n",
    "    4 Sections:\n",
    "        Project Goals: define high level objectives and intentions\n",
    "        Data: Does this data have enough information to do this project?\n",
    "        Analsis: stat tests and graphs\n",
    "        Evaluation: conclusions, findings from our analysis\n"
   ]
  },
  {
   "cell_type": "markdown",
   "metadata": {},
   "source": [
    "\n",
    "### Goals of the project:\n",
    "    In this project the persepctive will be through a ___ analyst for __who hired you__. They want to ensure the ________ to maintain _______. Therefore, the main objectives as an analyst will be understanding characteristics about _____ and _____, and their relationship to ____. Some questions that are posed:\n",
    "\n",
    "*   \n",
    "    + \n",
    "    + \n",
    "    + \n",
    "    + \n",
    "\n",
    "### Data:\n",
    "This project has data that came from this package from Codecademy. The first csv file has information about ____ and the second ____ has information on _____.\n",
    "\n",
    "### Analysis:\n",
    "In this section, descriptive statistics and data visualization techniques will be employed to understand the data better. Statistial inference will also be used to test if the observed values are statistically significant. Some of the key meetrics that will be computed include:\n",
    "* \n",
    "    1. Distributions\n",
    "    2. Counts\n",
    "    3. Relationship between ____ \n",
    "    4. Status of _____\n",
    "    5. Observations of _____\n",
    "\n",
    "\n",
    "### Evaluation:\n",
    "Lastly, in this section we revisit the goals, check our analysis and relate them to our questions. This section will also refelct what has been learned in the procss. If any of the questions were unable to be answered and if so why. Also, if anyone else has come to a different conclusion or used different methodologies. \n"
   ]
  },
  {
   "cell_type": "markdown",
   "metadata": {},
   "source": [
    "# Project Formats: <a class = \"anchor\" id = \"formats\"></a>\n"
   ]
  },
  {
   "cell_type": "markdown",
   "metadata": {},
   "source": [
    "Standard Formats: \n",
    "\n",
    "Imports: \n",
    "absolute paths\n",
    "group imports by standard library imports, third party imports, local imports and alphabetize within groups\n",
    "\n",
    "Print and Others:\n",
    "Use f-strings rather than % or .format()\n",
    "if condition: not if(condition)\n",
    "Progress bars for long-term processing projects\n",
    "4 spaces for indentation, not tabs\n",
    "each line of code is under 79 chars\n",
    "avoid single letter variable names\n",
    "strings: \"\" not '' unless in another string\n",
    "\n",
    "columns are cleaned before data visualization so that data labeled firstword_secondword become FirstWord SecondWord\n",
    "classes follow FirstSecond \n",
    "\n",
    "\n",
    "\n",
    "Use of Functions:\n",
    "filename.function()\n",
    "\n",
    "\n",
    "Data Tables: <a id = \"formats_data_tables\"></a>\n",
    "axis = 0 or __axis = 'index'__ \n",
    "axis=0 -> apply function along rows\n",
    "axis = 1 or __axis = 'columns'__\n",
    "axis=1 -> apply function along columns"
   ]
  },
  {
   "cell_type": "markdown",
   "metadata": {},
   "source": [
    "Work Flow:\n",
    "\n",
    "\n",
    "Integrate with the workflow:\n",
    "    + Pre-Commit Hooks: Setup pre-commit hooks to run code formatters automatically before each commit.\n",
    "    + Continuous Integration (CI): include code formatting checks in your CI pieplines. Reject builds if code formatting violations are detected.\n",
    "\n",
    "Version Control and Code Reviews:\n",
    "    + Commit formatted code\n",
    "    + Review formatted diffs"
   ]
  },
  {
   "cell_type": "markdown",
   "metadata": {},
   "source": [
    "# EDA"
   ]
  },
  {
   "cell_type": "markdown",
   "metadata": {},
   "source": [
    "\n",
    "## Project Overview\n",
    "- **Objective**: \n",
    "- **Dataset**: \n",
    "\n",
    "## Imports\n",
    "\n",
    "### Standard Library Imports"
   ]
  },
  {
   "cell_type": "code",
   "execution_count": null,
   "metadata": {},
   "outputs": [],
   "source": [
    "# Standard Library Imports\n",
    "import os\n",
    "import sys\n",
    "import json\n",
    "import math\n",
    "import datetime\n",
    "import collections\n"
   ]
  },
  {
   "cell_type": "markdown",
   "metadata": {},
   "source": [
    "### Third Party Library Imports"
   ]
  },
  {
   "cell_type": "code",
   "execution_count": null,
   "metadata": {},
   "outputs": [],
   "source": [
    "# Third Party Library Imports\n",
    "import numpy as np\n",
    "import pandas as pd\n",
    "import matplotlib.pyplot as plt\n",
    "import seaborn as sns\n",
    "import scipy.stats as stats\n"
   ]
  },
  {
   "cell_type": "markdown",
   "metadata": {},
   "source": [
    "### Local Imports"
   ]
  },
  {
   "cell_type": "code",
   "execution_count": null,
   "metadata": {},
   "outputs": [],
   "source": [
    "# Local Imports\n"
   ]
  },
  {
   "cell_type": "markdown",
   "metadata": {},
   "source": [
    "## Data Loading and Initial Inspection "
   ]
  },
  {
   "cell_type": "code",
   "execution_count": null,
   "metadata": {},
   "outputs": [],
   "source": [
    "# Load the data\n",
    "df = pd.read_csv('data.csv')\n",
    "\n",
    "# Shape and structure\n",
    "df.shape\n",
    "df.head()\n",
    "df.info()\n"
   ]
  },
  {
   "cell_type": "markdown",
   "metadata": {},
   "source": [
    "## Descriptive Statistics "
   ]
  },
  {
   "cell_type": "code",
   "execution_count": null,
   "metadata": {},
   "outputs": [],
   "source": [
    "# Summary statistics\n",
    "df.describe()\n",
    "\n",
    "# Categorical variable distribution\n",
    "df[\"category_column\"].value_counts()\n",
    "\n"
   ]
  },
  {
   "cell_type": "markdown",
   "metadata": {},
   "source": [
    "## Missing Value Analysis"
   ]
  },
  {
   "cell_type": "code",
   "execution_count": null,
   "metadata": {},
   "outputs": [],
   "source": [
    "# Count and percentage of missing values\n",
    "missing_values = df.isnull().sum()\n",
    "missing_percentage = (missing_values / df.shape[0]) * 100\n",
    "\n",
    "# Visualization of missing values\n",
    "sns.heatmap(df.isnull(), cbar=False)\n",
    "plt.show()\n"
   ]
  },
  {
   "cell_type": "markdown",
   "metadata": {},
   "source": [
    "## Data Cleaning"
   ]
  },
  {
   "cell_type": "code",
   "execution_count": null,
   "metadata": {},
   "outputs": [],
   "source": [
    "# Dropping rows with missing values\n",
    "df_cleaned = df.dropna()\n",
    "\n",
    "# Imputing missing values\n",
    "df['column_name'] = df['column_name'].fillna(df['column_name'].median())\n"
   ]
  },
  {
   "cell_type": "markdown",
   "metadata": {},
   "source": [
    "## Univariate Analysis"
   ]
  },
  {
   "cell_type": "code",
   "execution_count": null,
   "metadata": {},
   "outputs": [],
   "source": [
    "# Histogram for numerical variable\n",
    "df['numerical_column'].hist(bins=30)\n",
    "plt.title('Distribution of Numerical Column')\n",
    "plt.show()\n"
   ]
  },
  {
   "cell_type": "markdown",
   "metadata": {},
   "source": [
    "## Bivariate Analysis"
   ]
  },
  {
   "cell_type": "code",
   "execution_count": null,
   "metadata": {},
   "outputs": [],
   "source": [
    "# Correlation matrix heatmap\n",
    "corr_matrix = df.corr()\n",
    "sns.heatmap(corr_matrix, annot=True, cmap='coolwarm')\n",
    "plt.title('Correlation Matrix')\n",
    "plt.show()\n"
   ]
  },
  {
   "cell_type": "markdown",
   "metadata": {},
   "source": [
    "## Outliers Detection"
   ]
  },
  {
   "cell_type": "code",
   "execution_count": null,
   "metadata": {},
   "outputs": [],
   "source": [
    "# Box plot for outlier detection\n",
    "sns.boxplot(x=df['numerical_column'])\n",
    "plt.title('Outliers in Numerical Column')\n",
    "plt.show()\n"
   ]
  },
  {
   "cell_type": "markdown",
   "metadata": {},
   "source": [
    "## Feature Engineering "
   ]
  },
  {
   "cell_type": "code",
   "execution_count": null,
   "metadata": {},
   "outputs": [],
   "source": [
    "# Create new features\n",
    "df['new_feature'] = df['numerical_column_1'] * df['numerical_column_2']\n"
   ]
  },
  {
   "cell_type": "markdown",
   "metadata": {},
   "source": [
    "## Conclusion and Insights\n",
    "\n",
    "### Summary Statistics\n",
    "\n",
    "\n",
    "### Key Findings\n",
    "- Summary of the most important patterns found.\n",
    "\n",
    "### Next Steps\n",
    "- Potential further analysis or modeling.\n"
   ]
  }
 ],
 "metadata": {
  "language_info": {
   "name": "python"
  }
 },
 "nbformat": 4,
 "nbformat_minor": 2
}
